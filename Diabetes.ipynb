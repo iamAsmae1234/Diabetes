{
 "cells": [
  {
   "cell_type": "code",
   "execution_count": 1,
   "id": "bb3a58d5",
   "metadata": {},
   "outputs": [],
   "source": [
    "import pandas as pd\n",
    "import matplotlib.pyplot as plt"
   ]
  },
  {
   "cell_type": "code",
   "execution_count": 2,
   "id": "8febb662",
   "metadata": {},
   "outputs": [
    {
     "data": {
      "text/html": [
       "<div>\n",
       "<style scoped>\n",
       "    .dataframe tbody tr th:only-of-type {\n",
       "        vertical-align: middle;\n",
       "    }\n",
       "\n",
       "    .dataframe tbody tr th {\n",
       "        vertical-align: top;\n",
       "    }\n",
       "\n",
       "    .dataframe thead th {\n",
       "        text-align: right;\n",
       "    }\n",
       "</style>\n",
       "<table border=\"1\" class=\"dataframe\">\n",
       "  <thead>\n",
       "    <tr style=\"text-align: right;\">\n",
       "      <th></th>\n",
       "      <th>Pregnancies</th>\n",
       "      <th>Glucose</th>\n",
       "      <th>BloodPressure</th>\n",
       "      <th>SkinThickness</th>\n",
       "      <th>Insulin</th>\n",
       "      <th>BMI</th>\n",
       "      <th>DiabetesPedigreeFunction</th>\n",
       "      <th>Age</th>\n",
       "      <th>Outcome</th>\n",
       "    </tr>\n",
       "  </thead>\n",
       "  <tbody>\n",
       "    <tr>\n",
       "      <th>0</th>\n",
       "      <td>6</td>\n",
       "      <td>148</td>\n",
       "      <td>72</td>\n",
       "      <td>35</td>\n",
       "      <td>0</td>\n",
       "      <td>33.6</td>\n",
       "      <td>0.627</td>\n",
       "      <td>50</td>\n",
       "      <td>1</td>\n",
       "    </tr>\n",
       "    <tr>\n",
       "      <th>1</th>\n",
       "      <td>1</td>\n",
       "      <td>85</td>\n",
       "      <td>66</td>\n",
       "      <td>29</td>\n",
       "      <td>0</td>\n",
       "      <td>26.6</td>\n",
       "      <td>0.351</td>\n",
       "      <td>31</td>\n",
       "      <td>0</td>\n",
       "    </tr>\n",
       "    <tr>\n",
       "      <th>2</th>\n",
       "      <td>8</td>\n",
       "      <td>183</td>\n",
       "      <td>64</td>\n",
       "      <td>0</td>\n",
       "      <td>0</td>\n",
       "      <td>23.3</td>\n",
       "      <td>0.672</td>\n",
       "      <td>32</td>\n",
       "      <td>1</td>\n",
       "    </tr>\n",
       "    <tr>\n",
       "      <th>3</th>\n",
       "      <td>1</td>\n",
       "      <td>89</td>\n",
       "      <td>66</td>\n",
       "      <td>23</td>\n",
       "      <td>94</td>\n",
       "      <td>28.1</td>\n",
       "      <td>0.167</td>\n",
       "      <td>21</td>\n",
       "      <td>0</td>\n",
       "    </tr>\n",
       "    <tr>\n",
       "      <th>4</th>\n",
       "      <td>0</td>\n",
       "      <td>137</td>\n",
       "      <td>40</td>\n",
       "      <td>35</td>\n",
       "      <td>168</td>\n",
       "      <td>43.1</td>\n",
       "      <td>2.288</td>\n",
       "      <td>33</td>\n",
       "      <td>1</td>\n",
       "    </tr>\n",
       "  </tbody>\n",
       "</table>\n",
       "</div>"
      ],
      "text/plain": [
       "   Pregnancies  Glucose  BloodPressure  SkinThickness  Insulin   BMI  \\\n",
       "0            6      148             72             35        0  33.6   \n",
       "1            1       85             66             29        0  26.6   \n",
       "2            8      183             64              0        0  23.3   \n",
       "3            1       89             66             23       94  28.1   \n",
       "4            0      137             40             35      168  43.1   \n",
       "\n",
       "   DiabetesPedigreeFunction  Age  Outcome  \n",
       "0                     0.627   50        1  \n",
       "1                     0.351   31        0  \n",
       "2                     0.672   32        1  \n",
       "3                     0.167   21        0  \n",
       "4                     2.288   33        1  "
      ]
     },
     "execution_count": 2,
     "metadata": {},
     "output_type": "execute_result"
    }
   ],
   "source": [
    "data = pd.read_csv(\"diabetes.csv\")\n",
    "data.head()"
   ]
  },
  {
   "cell_type": "code",
   "execution_count": 3,
   "id": "54a91382",
   "metadata": {},
   "outputs": [
    {
     "name": "stdout",
     "output_type": "stream",
     "text": [
      "dimension of diabetes data: (768, 9)\n"
     ]
    }
   ],
   "source": [
    "# \"1-\tPréparez vos donnes et nettoyer les si besoin.\"\n",
    "\n",
    "print(\"dimension of diabetes data: {}\".format(data.shape))"
   ]
  },
  {
   "cell_type": "code",
   "execution_count": 4,
   "id": "c54d5a8f",
   "metadata": {},
   "outputs": [
    {
     "name": "stdout",
     "output_type": "stream",
     "text": [
      "Pregnancies                 0\n",
      "Glucose                     0\n",
      "BloodPressure               0\n",
      "SkinThickness               0\n",
      "Insulin                     0\n",
      "BMI                         0\n",
      "DiabetesPedigreeFunction    0\n",
      "Age                         0\n",
      "Outcome                     0\n",
      "dtype: int64\n"
     ]
    }
   ],
   "source": [
    "# Nombre total de valeurs manquantes pour chaque caractéristique\n",
    "print(data.isnull().sum())"
   ]
  },
  {
   "cell_type": "code",
   "execution_count": 5,
   "id": "92235d9e",
   "metadata": {},
   "outputs": [
    {
     "name": "stdout",
     "output_type": "stream",
     "text": [
      "False\n"
     ]
    }
   ],
   "source": [
    "# des valeurs manquantes?\n",
    "print(data.isnull().values.any())"
   ]
  },
  {
   "cell_type": "code",
   "execution_count": 6,
   "id": "82ccf4e3",
   "metadata": {},
   "outputs": [
    {
     "data": {
      "text/plain": [
       "<AxesSubplot:xlabel='Outcome', ylabel='count'>"
      ]
     },
     "execution_count": 6,
     "metadata": {},
     "output_type": "execute_result"
    },
    {
     "data": {
      "image/png": "[encoded data removed]",
      "text/plain": [
       "<Figure size 432x288 with 1 Axes>"
      ]
     },
     "metadata": {
      "needs_background": "light"
     },
     "output_type": "display_data"
    }
   ],
   "source": [
    "import seaborn as sns\n",
    "#Countng values of outcomes having 0 or 1, 0 means non diabetic and 1 means diabetic\n",
    "sns.countplot(x='Outcome',data=data)"
   ]
  },
  {
   "cell_type": "code",
   "execution_count": 7,
   "id": "83b058aa",
   "metadata": {},
   "outputs": [],
   "source": [
    "#\"2-nous allons découper nos données en un jeu d'entraînement (X_train, y_train) et un jeu de test (X_test, y_test).\"\n",
    "import numpy as np\n",
    "\n",
    "# features selection\n",
    "X = data[data.columns[:-1]].values\n",
    "\n",
    "# target selection\n",
    "y = data['Outcome'].values\n"
   ]
  },
  {
   "cell_type": "code",
   "execution_count": 8,
   "id": "d9a65ed0",
   "metadata": {},
   "outputs": [
    {
     "data": {
      "text/plain": [
       "(768, 8)"
      ]
     },
     "execution_count": 8,
     "metadata": {},
     "output_type": "execute_result"
    }
   ],
   "source": [
    "#Removing unnessary columns\n",
    "\n",
    "X.shape"
   ]
  },
  {
   "cell_type": "code",
   "execution_count": 9,
   "id": "38b16252",
   "metadata": {},
   "outputs": [],
   "source": [
    "from sklearn import model_selection\n",
    "\n",
    "# Split dataset into training set and test set\n",
    "X_train, X_test, y_train, y_test = \\\n",
    "    model_selection.train_test_split(X, y, test_size=0.8)"
   ]
  },
  {
   "cell_type": "code",
   "execution_count": 10,
   "id": "eca8795d",
   "metadata": {},
   "outputs": [],
   "source": [
    "#-----------SVM-----------\n",
    "# standardiser les données\n",
    "from sklearn import preprocessing\n",
    "std_scale = preprocessing.StandardScaler().fit(X_train)\n",
    "\n",
    "X_train_std = std_scale.transform(X_train)\n",
    "X_test_std = std_scale.transform(X_test)"
   ]
  },
  {
   "cell_type": "code",
   "execution_count": 11,
   "id": "37589c0b",
   "metadata": {},
   "outputs": [
    {
     "name": "stdout",
     "output_type": "stream",
     "text": [
      "Correct: 419\n",
      "Incorrect :  196\n",
      "Accuracy: 0.6813008130081301\n"
     ]
    }
   ],
   "source": [
    "from sklearn import svm\n",
    "from sklearn.metrics import accuracy_score, f1_score, precision_score, recall_score, confusion_matrix\n",
    "##Create a svm Classifier\n",
    "classifier = svm.SVC(C=1000, gamma='auto') #C = 1000, gamma='auto' gives the best performance and minimum overfitting\n",
    "\n",
    "# Entraîner la SVM sur le jeu d'entraînement\n",
    "\n",
    "classifier.fit(X_train_std, y_train)\n",
    "#effectuez une prédiction sur le jeu de test\n",
    "y_pred_svm=classifier.predict(X_test_std)\n",
    "\n",
    "print(\"Correct:\",sum(y_pred_svm == y_test))\n",
    "print(\"Incorrect : \",sum(y_pred_svm != y_test))\n",
    "print(\"Accuracy:\",sum(y_pred_svm ==y_test)/len(y_pred_svm))"
   ]
  },
  {
   "cell_type": "code",
   "execution_count": 12,
   "id": "f2b3fad4",
   "metadata": {},
   "outputs": [],
   "source": [
    "#Confusion matrix\n",
    "import seaborn as sns\n",
    "\n",
    "def normalized_confusion_matrix(y_test, conf_mat, model):\n",
    "    _ , counts = np.unique(y_test,return_counts=True)\n",
    "    conf_mat = conf_mat/counts\n",
    "    plt.figure(figsize=(5,5))\n",
    "    ax=sns.heatmap(conf_mat,fmt='.2f',annot=True,annot_kws={'size':20},lw=2, cbar=True, cbar_kws={'label':'% Class accuracy'})\n",
    "    plt.title(f'Confusion Matrix ({model})',size=20)\n",
    "    plt.xticks(size=15)\n",
    "    plt.yticks(size=15)\n",
    "    ax.figure.axes[-1].yaxis.label.set_size(20) ##colorbar label\n",
    "    cax = plt.gcf().axes[-1]  ##colorbar ticks\n",
    "    cax.tick_params(labelsize=20) ## colorbar ticks\n",
    "    plt.savefig(f'confusion-matrix-{model}.png',dpi=300)\n",
    "    \n"
   ]
  },
  {
   "cell_type": "code",
   "execution_count": 13,
   "id": "83cf8cd2",
   "metadata": {},
   "outputs": [
    {
     "data": {
      "image/png": "[encoded data removed]",
      "text/plain": [
       "<Figure size 360x360 with 2 Axes>"
      ]
     },
     "metadata": {
      "needs_background": "light"
     },
     "output_type": "display_data"
    }
   ],
   "source": [
    "conf_mat = confusion_matrix(y_test,y_pred_svm)\n",
    "normalized_confusion_matrix(y_test,conf_mat,'SVM')"
   ]
  },
  {
   "cell_type": "code",
   "execution_count": 14,
   "id": "28e1439c",
   "metadata": {},
   "outputs": [],
   "source": [
    "#K-fold cross-validation\n",
    "from sklearn.model_selection import cross_val_score\n",
    "\n",
    "\n",
    "k_fold_svm_accuracy = cross_val_score(classifier, std_scale.fit_transform(X), y, cv=10) ##10-fold cross validation\n",
    "k_fold_svm_f1 = cross_val_score(classifier, std_scale.fit_transform(X), y, cv=10, scoring='f1_macro') ##10-fold cross validation"
   ]
  },
  {
   "cell_type": "code",
   "execution_count": 15,
   "id": "b321a38b",
   "metadata": {},
   "outputs": [
    {
     "name": "stdout",
     "output_type": "stream",
     "text": [
      "Average accuracy after 10 fold cross validation : 0.69 +/- 0.04\n",
      "Average F1-score after 10 fold cross validation : 0.66 +/- 0.04\n"
     ]
    }
   ],
   "source": [
    "print(f'Average accuracy after 10 fold cross validation : {k_fold_svm_accuracy.mean().round(2)} +/- {k_fold_svm_accuracy.std().round(2)}')\n",
    "print(f'Average F1-score after 10 fold cross validation : {k_fold_svm_f1.mean().round(2)} +/- {k_fold_svm_f1.std().round(2)}')"
   ]
  },
  {
   "cell_type": "code",
   "execution_count": 16,
   "id": "9c8adae4",
   "metadata": {},
   "outputs": [
    {
     "data": {
      "image/png": "[encoded data removed]",
      "text/plain": [
       "<Figure size 432x432 with 1 Axes>"
      ]
     },
     "metadata": {
      "needs_background": "light"
     },
     "output_type": "display_data"
    }
   ],
   "source": [
    "# construire la courbe ROC\n",
    "from sklearn import metrics\n",
    "fpr, tpr, thr = metrics.roc_curve(y_test, y_pred_svm)\n",
    "\n",
    "# calculer l'aire sous la courbe ROC\n",
    "auc = metrics.auc(fpr, tpr)\n",
    "\n",
    "# créer une figure\n",
    "from matplotlib import pyplot as plt\n",
    "fig = plt.figure(figsize=(6, 6))\n",
    "\n",
    "# afficher la courbe ROC\n",
    "plt.plot(fpr, tpr, '-', lw=2, label='gamma=0.01, AUC=%.2f' % auc)\n",
    "\n",
    "# donner un titre aux axes et au graphique\n",
    "plt.xlabel('Taux de faux positifs', fontsize=16)\n",
    "plt.ylabel('Taux de vrais positifs', fontsize=16)\n",
    "plt.title('SVM ROC Curve', fontsize=16)\n",
    "\n",
    "plt.show()"
   ]
  },
  {
   "cell_type": "code",
   "execution_count": 17,
   "id": "0c2a14a8",
   "metadata": {},
   "outputs": [],
   "source": [
    "k_fold_svm_accuracy = cross_val_score(classifier, std_scale.fit_transform(X), y, cv=10) ##10-fold cross validation\n",
    "k_fold_svm_f1 = cross_val_score(classifier, std_scale.fit_transform(X), y, cv=10, scoring='f1_macro') ##10-fold cross validation"
   ]
  },
  {
   "cell_type": "code",
   "execution_count": 18,
   "id": "f0877b2c",
   "metadata": {},
   "outputs": [
    {
     "name": "stdout",
     "output_type": "stream",
     "text": [
      "Average accuracy after 10 fold cross validation : 0.69 +/- 0.04\n",
      "Average F1-score after 10 fold cross validation : 0.66 +/- 0.04\n"
     ]
    }
   ],
   "source": [
    "print(f'Average accuracy after 10 fold cross validation : {k_fold_svm_accuracy.mean().round(2)} +/- {k_fold_svm_accuracy.std().round(2)}')\n",
    "print(f'Average F1-score after 10 fold cross validation : {k_fold_svm_f1.mean().round(2)} +/- {k_fold_svm_f1.std().round(2)}')"
   ]
  },
  {
   "cell_type": "code",
   "execution_count": 19,
   "id": "f5e188f6",
   "metadata": {},
   "outputs": [
    {
     "name": "stdout",
     "output_type": "stream",
     "text": [
      "Correct: 443\n",
      "Incorrect :  172\n",
      "Accuracy: 0.7203252032520325\n"
     ]
    }
   ],
   "source": [
    "#-----KNN--------\n",
    "from sklearn.neighbors import KNeighborsClassifier\n",
    "\n",
    "knn = KNeighborsClassifier(n_neighbors=5, p=2, metric='minkowski')\n",
    "knn.fit(X_train_std, y_train)\n",
    "y_pred_knn = knn.predict(X_test_std)\n",
    "print(\"Correct:\",sum(y_pred_knn==y_test))\n",
    "print(\"Incorrect : \",sum(y_pred_knn != y_test))\n",
    "print(\"Accuracy:\",sum(y_pred_knn ==y_test)/len(y_pred_knn))"
   ]
  },
  {
   "cell_type": "code",
   "execution_count": 20,
   "id": "cf2a3e58",
   "metadata": {},
   "outputs": [
    {
     "data": {
      "image/png": "[encoded data removed]",
      "text/plain": [
       "<Figure size 360x360 with 2 Axes>"
      ]
     },
     "metadata": {
      "needs_background": "light"
     },
     "output_type": "display_data"
    }
   ],
   "source": [
    "conf_mat = confusion_matrix(y_test,y_pred_knn)\n",
    "normalized_confusion_matrix(y_test,conf_mat, 'kNN')\n"
   ]
  },
  {
   "cell_type": "code",
   "execution_count": 21,
   "id": "94dbbe1b",
   "metadata": {},
   "outputs": [],
   "source": [
    "# The above heatmap says 0,0 means true negative and 1,1 means true positive \n",
    "# and 0,1 means even person is negative but showing result positive\n",
    "# and 1,0 means person is positive but shows negative so its danger so we need to accurate our model"
   ]
  },
  {
   "cell_type": "code",
   "execution_count": 22,
   "id": "5e536170",
   "metadata": {},
   "outputs": [],
   "source": [
    "k_fold_knn_accuracy = cross_val_score(knn, X, y, cv=10) ##10-fold cross validation\n",
    "k_fold_knn_f1 = cross_val_score(knn, X, y, cv=10, scoring='f1_macro') ##10-fold cross validation"
   ]
  },
  {
   "cell_type": "code",
   "execution_count": 23,
   "id": "022d8ca4",
   "metadata": {},
   "outputs": [
    {
     "name": "stdout",
     "output_type": "stream",
     "text": [
      "Average accuracy after 10 fold cross validation :0.72 +/- 0.04\n",
      "Average F1-score after 10 fold cross validation :0.68 +/- 0.06\n"
     ]
    }
   ],
   "source": [
    "print(f'Average accuracy after 10 fold cross validation :{k_fold_knn_accuracy.mean().round(2)} +/- {k_fold_knn_accuracy.std().round(2)}')\n",
    "print(f'Average F1-score after 10 fold cross validation :{k_fold_knn_f1.mean().round(2)} +/- {k_fold_knn_f1.std().round(2)}')"
   ]
  },
  {
   "cell_type": "code",
   "execution_count": 24,
   "id": "292cb001",
   "metadata": {},
   "outputs": [],
   "source": [
    "#-----Logistic Regression ------\n",
    "from sklearn.linear_model import LogisticRegression\n",
    "\n"
   ]
  },
  {
   "cell_type": "code",
   "execution_count": 25,
   "id": "dec60aea",
   "metadata": {},
   "outputs": [
    {
     "name": "stdout",
     "output_type": "stream",
     "text": [
      "Accuracy on test: 0.751\n",
      "F1-score on test set: 0.620\n"
     ]
    }
   ],
   "source": [
    "logreg = LogisticRegression(C=1,solver='newton-cg').fit(X_train,y_train)\n",
    "y_pred_log=logreg.predict(X_test)\n",
    "print(\"Accuracy on test: {:.3f}\".format(accuracy_score(y_pred_log, y_test)))\n",
    "print(\"F1-score on test set: {:.3f}\".format(f1_score(y_pred_log, y_test)))"
   ]
  },
  {
   "cell_type": "code",
   "execution_count": 26,
   "id": "7dbc6813",
   "metadata": {},
   "outputs": [
    {
     "data": {
      "image/png": "[encoded data removed]",
      "text/plain": [
       "<Figure size 360x360 with 2 Axes>"
      ]
     },
     "metadata": {
      "needs_background": "light"
     },
     "output_type": "display_data"
    }
   ],
   "source": [
    "conf_mat = confusion_matrix(y_test,y_pred_log)\n",
    "normalized_confusion_matrix(y_test,conf_mat,'Logistic Regression')"
   ]
  },
  {
   "cell_type": "code",
   "execution_count": 27,
   "id": "498881ab",
   "metadata": {},
   "outputs": [],
   "source": [
    "#K-fold cross validation\n",
    "from sklearn.model_selection import cross_val_score\n",
    "k_fold_logreg_accuracy = cross_val_score(logreg, X, y, cv=10) ##10-fold cross validation\n",
    "k_fold_logreg_f1 = cross_val_score(logreg, X, y, cv=10, scoring='f1_macro') ##10-fold cross validation"
   ]
  },
  {
   "cell_type": "code",
   "execution_count": 28,
   "id": "6e769cbc",
   "metadata": {},
   "outputs": [
    {
     "name": "stdout",
     "output_type": "stream",
     "text": [
      "Average accuracy after 10 fold cross validation :0.77 +/- 0.04\n",
      "Average F1-score after 10 fold cross validation :0.74 +/- 0.04\n"
     ]
    }
   ],
   "source": [
    "print(f'Average accuracy after 10 fold cross validation :{k_fold_logreg_accuracy.mean().round(2)} +/- {k_fold_logreg_accuracy.std().round(2)}')\n",
    "print(f'Average F1-score after 10 fold cross validation :{k_fold_logreg_f1.mean().round(2)} +/- {k_fold_logreg_f1.std().round(2)}')"
   ]
  },
  {
   "cell_type": "code",
   "execution_count": 29,
   "id": "bae7a12b",
   "metadata": {},
   "outputs": [
    {
     "name": "stdout",
     "output_type": "stream",
     "text": [
      "Accuracy on test: 0.748\n",
      "F1-score on test set: 0.604\n"
     ]
    }
   ],
   "source": [
    "#------- Random Forest------\n",
    "from sklearn.ensemble import RandomForestClassifier\n",
    "\n",
    "#Create a Gaussian Classifier\n",
    "rf = RandomForestClassifier(n_estimators=100, random_state=0)\n",
    "#Train the model using the training sets y_pred=clf.predict(X_test)\n",
    "rf.fit(X_train, y_train)\n",
    "y_pred_Rd=rf.predict(X_test)\n",
    "\n",
    "print(\"Accuracy on test: {:.3f}\".format(accuracy_score(y_pred_Rd, y_test)))\n",
    "print(\"F1-score on test set: {:.3f}\".format(f1_score(y_pred_Rd, y_test)))"
   ]
  },
  {
   "cell_type": "code",
   "execution_count": 30,
   "id": "030ad603",
   "metadata": {},
   "outputs": [
    {
     "data": {
      "image/png": "[encoded data removed]",
      "text/plain": [
       "<Figure size 360x360 with 2 Axes>"
      ]
     },
     "metadata": {
      "needs_background": "light"
     },
     "output_type": "display_data"
    }
   ],
   "source": [
    "conf_mat = confusion_matrix(y_test,y_pred_Rd)\n",
    "normalized_confusion_matrix(y_test,conf_mat,'Random Forest')"
   ]
  },
  {
   "cell_type": "code",
   "execution_count": 31,
   "id": "76a33bf2",
   "metadata": {},
   "outputs": [],
   "source": [
    "k_fold_rf_accuracy = cross_val_score(rf, X, y, cv=10) ##10-fold cross validation\n",
    "k_fold_rf_f1 = cross_val_score(rf, X, y, cv=10, scoring='f1_macro') ##10-fold cross validation"
   ]
  },
  {
   "cell_type": "code",
   "execution_count": 32,
   "id": "1cc8bde8",
   "metadata": {},
   "outputs": [
    {
     "name": "stdout",
     "output_type": "stream",
     "text": [
      "Average accuracy after 10 fold cross validation :0.76 +/- 0.06\n",
      "Average F1-score after 10 fold cross validation :0.73 +/- 0.06\n"
     ]
    }
   ],
   "source": [
    "print(f'Average accuracy after 10 fold cross validation :{k_fold_rf_accuracy.mean().round(2)} +/- {k_fold_rf_accuracy.std().round(2)}')\n",
    "print(f'Average F1-score after 10 fold cross validation :{k_fold_rf_f1.mean().round(2)} +/- {k_fold_rf_f1.std().round(2)}')"
   ]
  },
  {
   "cell_type": "code",
   "execution_count": 33,
   "id": "c7f97f5a",
   "metadata": {},
   "outputs": [],
   "source": [
    "all_accuracies = [k_fold_knn_accuracy.mean().round(2),\n",
    "                   k_fold_logreg_accuracy.mean().round(2),\n",
    "                   k_fold_rf_accuracy.mean().round(2),\n",
    "                   k_fold_svm_accuracy.mean().round(2)]\n",
    "\n",
    "all_accuracies_errors = [k_fold_knn_accuracy.std().round(2),\n",
    "                   k_fold_logreg_accuracy.std().round(2),\n",
    "                   k_fold_rf_accuracy.std().round(2),\n",
    "                   k_fold_svm_accuracy.std().round(2)]"
   ]
  },
  {
   "cell_type": "code",
   "execution_count": 34,
   "id": "f06a7f18",
   "metadata": {},
   "outputs": [],
   "source": [
    "all_f1 = [k_fold_knn_accuracy.mean().round(2),\n",
    "                   k_fold_logreg_accuracy.mean().round(2),\n",
    "                   k_fold_rf_accuracy.mean().round(2),\n",
    "                   k_fold_svm_accuracy.mean().round(2)]\n",
    "\n",
    "all_f1_errors = [k_fold_knn_accuracy.mean().round(2),\n",
    "                   k_fold_logreg_accuracy.mean().round(2),\n",
    "                   k_fold_rf_accuracy.mean().round(2),\n",
    "                   k_fold_svm_accuracy.mean().round(2)]"
   ]
  },
  {
   "cell_type": "code",
   "execution_count": 35,
   "id": "e24a8173",
   "metadata": {},
   "outputs": [],
   "source": [
    "models=['kNN','Logistic Regression','Random Forest','SVM']"
   ]
  },
  {
   "cell_type": "code",
   "execution_count": 36,
   "id": "ce43db81",
   "metadata": {},
   "outputs": [
    {
     "data": {
      "text/html": [
       "<style type=\"text/css\">\n",
       "#T_b895a_row0_col0, #T_b895a_row0_col2, #T_b895a_row0_col3 {\n",
       "  background-color: #b9d0f9;\n",
       "  color: #000000;\n",
       "}\n",
       "#T_b895a_row0_col1, #T_b895a_row1_col1, #T_b895a_row3_col0, #T_b895a_row3_col1, #T_b895a_row3_col2, #T_b895a_row3_col3 {\n",
       "  background-color: #3b4cc0;\n",
       "  color: #f1f1f1;\n",
       "}\n",
       "#T_b895a_row1_col0, #T_b895a_row1_col2, #T_b895a_row1_col3, #T_b895a_row2_col1 {\n",
       "  background-color: #b40426;\n",
       "  color: #f1f1f1;\n",
       "}\n",
       "#T_b895a_row2_col0, #T_b895a_row2_col2, #T_b895a_row2_col3 {\n",
       "  background-color: #dd5f4b;\n",
       "  color: #f1f1f1;\n",
       "}\n",
       "</style>\n",
       "<table id=\"T_b895a_\">\n",
       "  <thead>\n",
       "    <tr>\n",
       "      <th class=\"blank level0\" >&nbsp;</th>\n",
       "      <th class=\"col_heading level0 col0\" >Accuracy</th>\n",
       "      <th class=\"col_heading level0 col1\" >STD_acc</th>\n",
       "      <th class=\"col_heading level0 col2\" >F1-macro</th>\n",
       "      <th class=\"col_heading level0 col3\" >STD_f1</th>\n",
       "    </tr>\n",
       "  </thead>\n",
       "  <tbody>\n",
       "    <tr>\n",
       "      <th id=\"T_b895a_level0_row0\" class=\"row_heading level0 row0\" >kNN</th>\n",
       "      <td id=\"T_b895a_row0_col0\" class=\"data row0 col0\" >0.720000</td>\n",
       "      <td id=\"T_b895a_row0_col1\" class=\"data row0 col1\" >0.040000</td>\n",
       "      <td id=\"T_b895a_row0_col2\" class=\"data row0 col2\" >0.720000</td>\n",
       "      <td id=\"T_b895a_row0_col3\" class=\"data row0 col3\" >0.720000</td>\n",
       "    </tr>\n",
       "    <tr>\n",
       "      <th id=\"T_b895a_level0_row1\" class=\"row_heading level0 row1\" >Logistic Regression</th>\n",
       "      <td id=\"T_b895a_row1_col0\" class=\"data row1 col0\" >0.770000</td>\n",
       "      <td id=\"T_b895a_row1_col1\" class=\"data row1 col1\" >0.040000</td>\n",
       "      <td id=\"T_b895a_row1_col2\" class=\"data row1 col2\" >0.770000</td>\n",
       "      <td id=\"T_b895a_row1_col3\" class=\"data row1 col3\" >0.770000</td>\n",
       "    </tr>\n",
       "    <tr>\n",
       "      <th id=\"T_b895a_level0_row2\" class=\"row_heading level0 row2\" >Random Forest</th>\n",
       "      <td id=\"T_b895a_row2_col0\" class=\"data row2 col0\" >0.760000</td>\n",
       "      <td id=\"T_b895a_row2_col1\" class=\"data row2 col1\" >0.060000</td>\n",
       "      <td id=\"T_b895a_row2_col2\" class=\"data row2 col2\" >0.760000</td>\n",
       "      <td id=\"T_b895a_row2_col3\" class=\"data row2 col3\" >0.760000</td>\n",
       "    </tr>\n",
       "    <tr>\n",
       "      <th id=\"T_b895a_level0_row3\" class=\"row_heading level0 row3\" >SVM</th>\n",
       "      <td id=\"T_b895a_row3_col0\" class=\"data row3 col0\" >0.690000</td>\n",
       "      <td id=\"T_b895a_row3_col1\" class=\"data row3 col1\" >0.040000</td>\n",
       "      <td id=\"T_b895a_row3_col2\" class=\"data row3 col2\" >0.690000</td>\n",
       "      <td id=\"T_b895a_row3_col3\" class=\"data row3 col3\" >0.690000</td>\n",
       "    </tr>\n",
       "  </tbody>\n",
       "</table>\n"
      ],
      "text/plain": [
       "<pandas.io.formats.style.Styler at 0x245643cf490>"
      ]
     },
     "execution_count": 36,
     "metadata": {},
     "output_type": "execute_result"
    }
   ],
   "source": [
    "model_data = pd.DataFrame([all_accuracies,all_accuracies_errors,all_f1,all_f1_errors],columns=models, index = ['Accuracy','STD_acc','F1-macro','STD_f1']).T\n",
    "model_data.style.background_gradient(cmap='coolwarm',axis=0)"
   ]
  },
  {
   "cell_type": "code",
   "execution_count": 37,
   "id": "1c550166",
   "metadata": {},
   "outputs": [
    {
     "data": {
      "image/png": "[encoded data removed]",
      "text/plain": [
       "<Figure size 500x500 with 1 Axes>"
      ]
     },
     "metadata": {
      "needs_background": "light"
     },
     "output_type": "display_data"
    }
   ],
   "source": [
    "from sklearn.metrics import roc_curve, auc\n",
    "\n",
    "knn_fpr, knn_tpr, thr = roc_curve(y_test, y_pred_knn)\n",
    "auc_knn = auc(knn_fpr, knn_tpr)\n",
    "\n",
    "svm_fpr, svm_tpr, thr = roc_curve(y_test, y_pred_svm)\n",
    "auc_svm = auc(svm_fpr, svm_tpr)\n",
    "\n",
    "log_fpr, log_tpr, thr = roc_curve(y_test, y_pred_log)\n",
    "auc_log = auc(log_fpr, log_tpr)\n",
    "\n",
    "Rd_fpr, Rd_tpr, thr = roc_curve(y_test, y_pred_Rd)\n",
    "auc_Rd = auc(Rd_fpr, Rd_tpr)\n",
    "\n",
    "plt.figure(figsize=(5, 5), dpi=100)\n",
    "plt.plot(svm_fpr, svm_tpr, linestyle='-', label='SVM (auc = %0.3f)' % auc_svm)\n",
    "plt.plot(knn_fpr, knn_tpr, marker='.', label='knn (auc = %0.3f)' % auc_knn)\n",
    "plt.plot(log_fpr, log_tpr, linestyle='-', label='Logistic Regression (auc = %0.3f)' % auc_log)\n",
    "plt.plot(Rd_fpr, Rd_tpr, marker='.', label='Random Forest (auc = %0.3f)' % auc_Rd)\n",
    "\n",
    "plt.xlabel('False Positive Rate -->')\n",
    "plt.ylabel('True Positive Rate -->')\n",
    "\n",
    "plt.legend()\n",
    "\n",
    "plt.show()\n",
    "##############################################\n"
   ]
  },
  {
   "cell_type": "code",
   "execution_count": 38,
   "id": "db746fc4",
   "metadata": {},
   "outputs": [],
   "source": [
    "# define the keras model\n",
    "from tensorflow import keras\n",
    "from keras.layers import Dense\n",
    "from keras.utils import np_utils\n",
    "from keras.models import Sequential\n",
    "model = Sequential()\n",
    "model.add(Dense(20, input_dim=8, activation='relu'))\n",
    "model.add(Dense(2, activation='relu'))\n",
    "model.add(Dense(1, activation='sigmoid'))\n",
    "\n",
    "\n"
   ]
  },
  {
   "cell_type": "code",
   "execution_count": 39,
   "id": "2f28fe5f",
   "metadata": {},
   "outputs": [
    {
     "name": "stdout",
     "output_type": "stream",
     "text": [
      "Epoch 1/200\n",
      "5/5 [==============================] - 0s 2ms/step - loss: 4.1225 - accuracy: 0.5948\n",
      "Epoch 2/200\n",
      "5/5 [==============================] - 0s 2ms/step - loss: 3.3800 - accuracy: 0.5163\n",
      "Epoch 3/200\n",
      "5/5 [==============================] - 0s 2ms/step - loss: 2.9356 - accuracy: 0.5033\n",
      "Epoch 4/200\n",
      "5/5 [==============================] - 0s 2ms/step - loss: 2.6310 - accuracy: 0.4771\n",
      "Epoch 5/200\n",
      "5/5 [==============================] - 0s 2ms/step - loss: 2.2679 - accuracy: 0.4575\n",
      "Epoch 6/200\n",
      "5/5 [==============================] - 0s 0s/step - loss: 1.9422 - accuracy: 0.4575\n",
      "Epoch 7/200\n",
      "5/5 [==============================] - 0s 0s/step - loss: 1.7035 - accuracy: 0.4052\n",
      "Epoch 8/200\n",
      "5/5 [==============================] - 0s 2ms/step - loss: 1.4027 - accuracy: 0.3856\n",
      "Epoch 9/200\n",
      "5/5 [==============================] - 0s 2ms/step - loss: 1.1909 - accuracy: 0.3464\n",
      "Epoch 10/200\n",
      "5/5 [==============================] - 0s 2ms/step - loss: 1.0001 - accuracy: 0.2941\n",
      "Epoch 11/200\n",
      "5/5 [==============================] - 0s 2ms/step - loss: 0.8303 - accuracy: 0.2876\n",
      "Epoch 12/200\n",
      "5/5 [==============================] - 0s 2ms/step - loss: 0.7385 - accuracy: 0.3072\n",
      "Epoch 13/200\n",
      "5/5 [==============================] - 0s 0s/step - loss: 0.6927 - accuracy: 0.3137\n",
      "Epoch 14/200\n",
      "5/5 [==============================] - 0s 2ms/step - loss: 0.6811 - accuracy: 0.4183\n",
      "Epoch 15/200\n",
      "5/5 [==============================] - 0s 2ms/step - loss: 0.6727 - accuracy: 0.6928\n",
      "Epoch 16/200\n",
      "5/5 [==============================] - 0s 2ms/step - loss: 0.6724 - accuracy: 0.6928\n",
      "Epoch 17/200\n",
      "5/5 [==============================] - 0s 2ms/step - loss: 0.6683 - accuracy: 0.6928\n",
      "Epoch 18/200\n",
      "5/5 [==============================] - 0s 4ms/step - loss: 0.6664 - accuracy: 0.6928\n",
      "Epoch 19/200\n",
      "5/5 [==============================] - 0s 2ms/step - loss: 0.6673 - accuracy: 0.6928\n",
      "Epoch 20/200\n",
      "5/5 [==============================] - 0s 3ms/step - loss: 0.6661 - accuracy: 0.6928\n",
      "Epoch 21/200\n",
      "5/5 [==============================] - 0s 2ms/step - loss: 0.6641 - accuracy: 0.6928\n",
      "Epoch 22/200\n",
      "5/5 [==============================] - 0s 4ms/step - loss: 0.6613 - accuracy: 0.6928\n",
      "Epoch 23/200\n",
      "5/5 [==============================] - 0s 4ms/step - loss: 0.6642 - accuracy: 0.6928\n",
      "Epoch 24/200\n",
      "5/5 [==============================] - 0s 4ms/step - loss: 0.6620 - accuracy: 0.6928\n",
      "Epoch 25/200\n",
      "5/5 [==============================] - 0s 2ms/step - loss: 0.6597 - accuracy: 0.6928\n",
      "Epoch 26/200\n",
      "5/5 [==============================] - 0s 2ms/step - loss: 0.6578 - accuracy: 0.6928\n",
      "Epoch 27/200\n",
      "5/5 [==============================] - 0s 4ms/step - loss: 0.6566 - accuracy: 0.6928\n",
      "Epoch 28/200\n",
      "5/5 [==============================] - 0s 3ms/step - loss: 0.6548 - accuracy: 0.6928\n",
      "Epoch 29/200\n",
      "5/5 [==============================] - 0s 2ms/step - loss: 0.6536 - accuracy: 0.6928\n",
      "Epoch 30/200\n",
      "5/5 [==============================] - 0s 2ms/step - loss: 0.6522 - accuracy: 0.6928\n",
      "Epoch 31/200\n",
      "5/5 [==============================] - 0s 4ms/step - loss: 0.6510 - accuracy: 0.6928\n",
      "Epoch 32/200\n",
      "5/5 [==============================] - 0s 2ms/step - loss: 0.6511 - accuracy: 0.6928\n",
      "Epoch 33/200\n",
      "5/5 [==============================] - 0s 2ms/step - loss: 0.6493 - accuracy: 0.6928\n",
      "Epoch 34/200\n",
      "5/5 [==============================] - 0s 2ms/step - loss: 0.6489 - accuracy: 0.6928\n",
      "Epoch 35/200\n",
      "5/5 [==============================] - 0s 3ms/step - loss: 0.6479 - accuracy: 0.6928\n",
      "Epoch 36/200\n",
      "5/5 [==============================] - 0s 3ms/step - loss: 0.6466 - accuracy: 0.6928\n",
      "Epoch 37/200\n",
      "5/5 [==============================] - 0s 0s/step - loss: 0.6455 - accuracy: 0.6928\n",
      "Epoch 38/200\n",
      "5/5 [==============================] - 0s 2ms/step - loss: 0.6449 - accuracy: 0.6928\n",
      "Epoch 39/200\n",
      "5/5 [==============================] - 0s 1ms/step - loss: 0.6440 - accuracy: 0.6928\n",
      "Epoch 40/200\n",
      "5/5 [==============================] - 0s 2ms/step - loss: 0.6429 - accuracy: 0.6928\n",
      "Epoch 41/200\n",
      "5/5 [==============================] - 0s 2ms/step - loss: 0.6426 - accuracy: 0.6928\n",
      "Epoch 42/200\n",
      "5/5 [==============================] - 0s 2ms/step - loss: 0.6415 - accuracy: 0.6928\n",
      "Epoch 43/200\n",
      "5/5 [==============================] - 0s 1ms/step - loss: 0.6427 - accuracy: 0.6928\n",
      "Epoch 44/200\n",
      "5/5 [==============================] - 0s 2ms/step - loss: 0.6411 - accuracy: 0.6928\n",
      "Epoch 45/200\n",
      "5/5 [==============================] - 0s 3ms/step - loss: 0.6407 - accuracy: 0.6928\n",
      "Epoch 46/200\n",
      "5/5 [==============================] - 0s 2ms/step - loss: 0.6409 - accuracy: 0.6928\n",
      "Epoch 47/200\n",
      "5/5 [==============================] - 0s 3ms/step - loss: 0.6394 - accuracy: 0.6928\n",
      "Epoch 48/200\n",
      "5/5 [==============================] - 0s 4ms/step - loss: 0.6378 - accuracy: 0.6928\n",
      "Epoch 49/200\n",
      "5/5 [==============================] - 0s 4ms/step - loss: 0.6370 - accuracy: 0.6928\n",
      "Epoch 50/200\n",
      "5/5 [==============================] - 0s 3ms/step - loss: 0.6348 - accuracy: 0.6928\n",
      "Epoch 51/200\n",
      "5/5 [==============================] - 0s 3ms/step - loss: 0.6342 - accuracy: 0.6928\n",
      "Epoch 52/200\n",
      "5/5 [==============================] - 0s 3ms/step - loss: 0.6338 - accuracy: 0.6928\n",
      "Epoch 53/200\n",
      "5/5 [==============================] - 0s 4ms/step - loss: 0.6324 - accuracy: 0.6928\n",
      "Epoch 54/200\n",
      "5/5 [==============================] - 0s 3ms/step - loss: 0.6330 - accuracy: 0.6928\n",
      "Epoch 55/200\n",
      "5/5 [==============================] - 0s 2ms/step - loss: 0.6312 - accuracy: 0.6928\n",
      "Epoch 56/200\n",
      "5/5 [==============================] - 0s 2ms/step - loss: 0.6302 - accuracy: 0.6928\n",
      "Epoch 57/200\n",
      "5/5 [==============================] - 0s 2ms/step - loss: 0.6306 - accuracy: 0.6928\n",
      "Epoch 58/200\n",
      "5/5 [==============================] - 0s 3ms/step - loss: 0.6291 - accuracy: 0.6928\n",
      "Epoch 59/200\n",
      "5/5 [==============================] - 0s 4ms/step - loss: 0.6283 - accuracy: 0.6928\n",
      "Epoch 60/200\n",
      "5/5 [==============================] - 0s 4ms/step - loss: 0.6274 - accuracy: 0.6928\n",
      "Epoch 61/200\n",
      "5/5 [==============================] - 0s 4ms/step - loss: 0.6270 - accuracy: 0.6928\n",
      "Epoch 62/200\n",
      "5/5 [==============================] - 0s 4ms/step - loss: 0.6271 - accuracy: 0.6928\n",
      "Epoch 63/200\n",
      "5/5 [==============================] - ETA: 0s - loss: 0.6202 - accuracy: 0.75 - 0s 2ms/step - loss: 0.6262 - accuracy: 0.6928\n",
      "Epoch 64/200\n",
      "5/5 [==============================] - 0s 2ms/step - loss: 0.6262 - accuracy: 0.6928\n",
      "Epoch 65/200\n",
      "5/5 [==============================] - 0s 4ms/step - loss: 0.6273 - accuracy: 0.6928\n",
      "Epoch 66/200\n",
      "5/5 [==============================] - 0s 2ms/step - loss: 0.6267 - accuracy: 0.6928\n",
      "Epoch 67/200\n",
      "5/5 [==============================] - 0s 2ms/step - loss: 0.6239 - accuracy: 0.6928\n",
      "Epoch 68/200\n",
      "5/5 [==============================] - 0s 2ms/step - loss: 0.6242 - accuracy: 0.6928\n",
      "Epoch 69/200\n",
      "5/5 [==============================] - 0s 0s/step - loss: 0.6226 - accuracy: 0.6928\n",
      "Epoch 70/200\n",
      "5/5 [==============================] - 0s 2ms/step - loss: 0.6225 - accuracy: 0.6928\n",
      "Epoch 71/200\n",
      "5/5 [==============================] - 0s 2ms/step - loss: 0.6223 - accuracy: 0.6928\n",
      "Epoch 72/200\n",
      "5/5 [==============================] - 0s 2ms/step - loss: 0.6217 - accuracy: 0.6928\n",
      "Epoch 73/200\n",
      "5/5 [==============================] - 0s 2ms/step - loss: 0.6210 - accuracy: 0.6928\n",
      "Epoch 74/200\n",
      "5/5 [==============================] - 0s 4ms/step - loss: 0.6212 - accuracy: 0.6928\n",
      "Epoch 75/200\n",
      "5/5 [==============================] - 0s 2ms/step - loss: 0.6210 - accuracy: 0.6928\n",
      "Epoch 76/200\n",
      "5/5 [==============================] - 0s 2ms/step - loss: 0.6201 - accuracy: 0.6928\n",
      "Epoch 77/200\n",
      "5/5 [==============================] - 0s 2ms/step - loss: 0.6204 - accuracy: 0.6928\n",
      "Epoch 78/200\n",
      "5/5 [==============================] - 0s 2ms/step - loss: 0.6196 - accuracy: 0.6928\n",
      "Epoch 79/200\n",
      "5/5 [==============================] - 0s 2ms/step - loss: 0.6215 - accuracy: 0.6928\n",
      "Epoch 80/200\n",
      "5/5 [==============================] - 0s 2ms/step - loss: 0.6201 - accuracy: 0.6928\n",
      "Epoch 81/200\n",
      "5/5 [==============================] - 0s 2ms/step - loss: 0.6182 - accuracy: 0.6928\n",
      "Epoch 82/200\n",
      "5/5 [==============================] - 0s 2ms/step - loss: 0.6180 - accuracy: 0.6928\n",
      "Epoch 83/200\n",
      "5/5 [==============================] - 0s 0s/step - loss: 0.6184 - accuracy: 0.6928\n",
      "Epoch 84/200\n"
     ]
    },
    {
     "name": "stdout",
     "output_type": "stream",
     "text": [
      "5/5 [==============================] - 0s 2ms/step - loss: 0.6186 - accuracy: 0.6928\n",
      "Epoch 85/200\n",
      "5/5 [==============================] - 0s 2ms/step - loss: 0.6170 - accuracy: 0.6928\n",
      "Epoch 86/200\n",
      "5/5 [==============================] - 0s 2ms/step - loss: 0.6160 - accuracy: 0.6928\n",
      "Epoch 87/200\n",
      "5/5 [==============================] - 0s 2ms/step - loss: 0.6165 - accuracy: 0.6928\n",
      "Epoch 88/200\n",
      "5/5 [==============================] - 0s 2ms/step - loss: 0.6152 - accuracy: 0.6928\n",
      "Epoch 89/200\n",
      "5/5 [==============================] - 0s 2ms/step - loss: 0.6161 - accuracy: 0.6928\n",
      "Epoch 90/200\n",
      "5/5 [==============================] - 0s 2ms/step - loss: 0.6157 - accuracy: 0.6928\n",
      "Epoch 91/200\n",
      "5/5 [==============================] - 0s 806us/step - loss: 0.6146 - accuracy: 0.6928\n",
      "Epoch 92/200\n",
      "5/5 [==============================] - 0s 855us/step - loss: 0.6140 - accuracy: 0.6928\n",
      "Epoch 93/200\n",
      "5/5 [==============================] - 0s 2ms/step - loss: 0.6137 - accuracy: 0.6928\n",
      "Epoch 94/200\n",
      "5/5 [==============================] - 0s 2ms/step - loss: 0.6134 - accuracy: 0.6928\n",
      "Epoch 95/200\n",
      "5/5 [==============================] - 0s 2ms/step - loss: 0.6135 - accuracy: 0.6928\n",
      "Epoch 96/200\n",
      "5/5 [==============================] - 0s 911us/step - loss: 0.6131 - accuracy: 0.6928\n",
      "Epoch 97/200\n",
      "5/5 [==============================] - 0s 2ms/step - loss: 0.6126 - accuracy: 0.6928\n",
      "Epoch 98/200\n",
      "5/5 [==============================] - 0s 2ms/step - loss: 0.6131 - accuracy: 0.6928\n",
      "Epoch 99/200\n",
      "5/5 [==============================] - 0s 789us/step - loss: 0.6122 - accuracy: 0.6928\n",
      "Epoch 100/200\n",
      "5/5 [==============================] - 0s 2ms/step - loss: 0.6129 - accuracy: 0.6928\n",
      "Epoch 101/200\n",
      "5/5 [==============================] - 0s 2ms/step - loss: 0.6126 - accuracy: 0.6928\n",
      "Epoch 102/200\n",
      "5/5 [==============================] - 0s 2ms/step - loss: 0.6119 - accuracy: 0.6928\n",
      "Epoch 103/200\n",
      "5/5 [==============================] - 0s 2ms/step - loss: 0.6108 - accuracy: 0.6928\n",
      "Epoch 104/200\n",
      "5/5 [==============================] - 0s 2ms/step - loss: 0.6112 - accuracy: 0.6928\n",
      "Epoch 105/200\n",
      "5/5 [==============================] - 0s 2ms/step - loss: 0.6107 - accuracy: 0.6928\n",
      "Epoch 106/200\n",
      "5/5 [==============================] - 0s 2ms/step - loss: 0.6105 - accuracy: 0.6928\n",
      "Epoch 107/200\n",
      "5/5 [==============================] - 0s 4ms/step - loss: 0.6101 - accuracy: 0.6928\n",
      "Epoch 108/200\n",
      "5/5 [==============================] - 0s 3ms/step - loss: 0.6096 - accuracy: 0.6928\n",
      "Epoch 109/200\n",
      "5/5 [==============================] - 0s 4ms/step - loss: 0.6094 - accuracy: 0.6928\n",
      "Epoch 110/200\n",
      "5/5 [==============================] - 0s 0s/step - loss: 0.6096 - accuracy: 0.6928\n",
      "Epoch 111/200\n",
      "5/5 [==============================] - 0s 2ms/step - loss: 0.6095 - accuracy: 0.6928\n",
      "Epoch 112/200\n",
      "5/5 [==============================] - 0s 3ms/step - loss: 0.6092 - accuracy: 0.6928\n",
      "Epoch 113/200\n",
      "5/5 [==============================] - 0s 5ms/step - loss: 0.6085 - accuracy: 0.6928\n",
      "Epoch 114/200\n",
      "5/5 [==============================] - 0s 2ms/step - loss: 0.6082 - accuracy: 0.6928\n",
      "Epoch 115/200\n",
      "5/5 [==============================] - 0s 4ms/step - loss: 0.6090 - accuracy: 0.6928\n",
      "Epoch 116/200\n",
      "5/5 [==============================] - 0s 5ms/step - loss: 0.6078 - accuracy: 0.6928\n",
      "Epoch 117/200\n",
      "5/5 [==============================] - 0s 3ms/step - loss: 0.6082 - accuracy: 0.6928\n",
      "Epoch 118/200\n",
      "5/5 [==============================] - 0s 4ms/step - loss: 0.6081 - accuracy: 0.6928\n",
      "Epoch 119/200\n",
      "5/5 [==============================] - 0s 2ms/step - loss: 0.6075 - accuracy: 0.6928\n",
      "Epoch 120/200\n",
      "5/5 [==============================] - 0s 4ms/step - loss: 0.6071 - accuracy: 0.6928\n",
      "Epoch 121/200\n",
      "5/5 [==============================] - 0s 4ms/step - loss: 0.6067 - accuracy: 0.6928\n",
      "Epoch 122/200\n",
      "5/5 [==============================] - 0s 2ms/step - loss: 0.6068 - accuracy: 0.6928\n",
      "Epoch 123/200\n",
      "5/5 [==============================] - 0s 0s/step - loss: 0.6068 - accuracy: 0.6928\n",
      "Epoch 124/200\n",
      "5/5 [==============================] - 0s 0s/step - loss: 0.6069 - accuracy: 0.6928\n",
      "Epoch 125/200\n",
      "5/5 [==============================] - 0s 2ms/step - loss: 0.6066 - accuracy: 0.6928\n",
      "Epoch 126/200\n",
      "5/5 [==============================] - 0s 2ms/step - loss: 0.6059 - accuracy: 0.6928\n",
      "Epoch 127/200\n",
      "5/5 [==============================] - 0s 2ms/step - loss: 0.6056 - accuracy: 0.6928\n",
      "Epoch 128/200\n",
      "5/5 [==============================] - 0s 163us/step - loss: 0.6055 - accuracy: 0.6928\n",
      "Epoch 129/200\n",
      "5/5 [==============================] - 0s 0s/step - loss: 0.6062 - accuracy: 0.6928\n",
      "Epoch 130/200\n",
      "5/5 [==============================] - 0s 0s/step - loss: 0.6056 - accuracy: 0.6928\n",
      "Epoch 131/200\n",
      "5/5 [==============================] - 0s 0s/step - loss: 0.6058 - accuracy: 0.6928\n",
      "Epoch 132/200\n",
      "5/5 [==============================] - 0s 1ms/step - loss: 0.6054 - accuracy: 0.6928\n",
      "Epoch 133/200\n",
      "5/5 [==============================] - 0s 3ms/step - loss: 0.6048 - accuracy: 0.6928\n",
      "Epoch 134/200\n",
      "5/5 [==============================] - 0s 2ms/step - loss: 0.6044 - accuracy: 0.6928\n",
      "Epoch 135/200\n",
      "5/5 [==============================] - 0s 750us/step - loss: 0.6041 - accuracy: 0.6928\n",
      "Epoch 136/200\n",
      "5/5 [==============================] - 0s 2ms/step - loss: 0.6047 - accuracy: 0.6928\n",
      "Epoch 137/200\n",
      "5/5 [==============================] - 0s 0s/step - loss: 0.6046 - accuracy: 0.6928\n",
      "Epoch 138/200\n",
      "5/5 [==============================] - 0s 2ms/step - loss: 0.6046 - accuracy: 0.6928\n",
      "Epoch 139/200\n",
      "5/5 [==============================] - 0s 2ms/step - loss: 0.6042 - accuracy: 0.6928\n",
      "Epoch 140/200\n",
      "5/5 [==============================] - 0s 2ms/step - loss: 0.6038 - accuracy: 0.6928\n",
      "Epoch 141/200\n",
      "5/5 [==============================] - 0s 2ms/step - loss: 0.6034 - accuracy: 0.6928\n",
      "Epoch 142/200\n",
      "5/5 [==============================] - 0s 2ms/step - loss: 0.6034 - accuracy: 0.6928\n",
      "Epoch 143/200\n",
      "5/5 [==============================] - 0s 2ms/step - loss: 0.6036 - accuracy: 0.6928\n",
      "Epoch 144/200\n",
      "5/5 [==============================] - 0s 2ms/step - loss: 0.6040 - accuracy: 0.6928\n",
      "Epoch 145/200\n",
      "5/5 [==============================] - 0s 2ms/step - loss: 0.6042 - accuracy: 0.6928\n",
      "Epoch 146/200\n",
      "5/5 [==============================] - 0s 2ms/step - loss: 0.6035 - accuracy: 0.6928\n",
      "Epoch 147/200\n",
      "5/5 [==============================] - 0s 906us/step - loss: 0.6028 - accuracy: 0.6928\n",
      "Epoch 148/200\n",
      "5/5 [==============================] - 0s 2ms/step - loss: 0.6024 - accuracy: 0.6928\n",
      "Epoch 149/200\n",
      "5/5 [==============================] - 0s 2ms/step - loss: 0.6030 - accuracy: 0.6928\n",
      "Epoch 150/200\n",
      "5/5 [==============================] - 0s 2ms/step - loss: 0.6026 - accuracy: 0.6928\n",
      "Epoch 151/200\n",
      "5/5 [==============================] - 0s 3ms/step - loss: 0.6027 - accuracy: 0.6928\n",
      "Epoch 152/200\n",
      "5/5 [==============================] - 0s 2ms/step - loss: 0.6025 - accuracy: 0.6928\n",
      "Epoch 153/200\n",
      "5/5 [==============================] - 0s 2ms/step - loss: 0.6022 - accuracy: 0.6928\n",
      "Epoch 154/200\n",
      "5/5 [==============================] - 0s 2ms/step - loss: 0.6018 - accuracy: 0.6928\n",
      "Epoch 155/200\n",
      "5/5 [==============================] - 0s 2ms/step - loss: 0.6015 - accuracy: 0.6928\n",
      "Epoch 156/200\n",
      "5/5 [==============================] - 0s 2ms/step - loss: 0.6017 - accuracy: 0.6928\n",
      "Epoch 157/200\n",
      "5/5 [==============================] - 0s 1ms/step - loss: 0.6019 - accuracy: 0.6928\n",
      "Epoch 158/200\n",
      "5/5 [==============================] - 0s 2ms/step - loss: 0.6026 - accuracy: 0.6928\n",
      "Epoch 159/200\n",
      "5/5 [==============================] - 0s 2ms/step - loss: 0.6027 - accuracy: 0.6928\n",
      "Epoch 160/200\n",
      "5/5 [==============================] - 0s 1ms/step - loss: 0.6019 - accuracy: 0.6928\n",
      "Epoch 161/200\n",
      "5/5 [==============================] - 0s 3ms/step - loss: 0.6012 - accuracy: 0.6928\n",
      "Epoch 162/200\n",
      "5/5 [==============================] - 0s 2ms/step - loss: 0.6008 - accuracy: 0.6928\n",
      "Epoch 163/200\n",
      "5/5 [==============================] - 0s 2ms/step - loss: 0.6012 - accuracy: 0.6928\n",
      "Epoch 164/200\n",
      "5/5 [==============================] - 0s 3ms/step - loss: 0.6009 - accuracy: 0.6928\n",
      "Epoch 165/200\n",
      "5/5 [==============================] - 0s 1ms/step - loss: 0.6011 - accuracy: 0.6928\n",
      "Epoch 166/200\n",
      "5/5 [==============================] - 0s 2ms/step - loss: 0.6012 - accuracy: 0.6928\n"
     ]
    },
    {
     "name": "stdout",
     "output_type": "stream",
     "text": [
      "Epoch 167/200\n",
      "5/5 [==============================] - 0s 3ms/step - loss: 0.6007 - accuracy: 0.6928\n",
      "Epoch 168/200\n",
      "5/5 [==============================] - 0s 2ms/step - loss: 0.6005 - accuracy: 0.6928\n",
      "Epoch 169/200\n",
      "5/5 [==============================] - 0s 2ms/step - loss: 0.6002 - accuracy: 0.6928\n",
      "Epoch 170/200\n",
      "5/5 [==============================] - 0s 2ms/step - loss: 0.6000 - accuracy: 0.6928\n",
      "Epoch 171/200\n",
      "5/5 [==============================] - 0s 928us/step - loss: 0.6004 - accuracy: 0.6928\n",
      "Epoch 172/200\n",
      "5/5 [==============================] - 0s 2ms/step - loss: 0.6003 - accuracy: 0.6928\n",
      "Epoch 173/200\n",
      "5/5 [==============================] - 0s 1ms/step - loss: 0.6009 - accuracy: 0.6928\n",
      "Epoch 174/200\n",
      "5/5 [==============================] - 0s 2ms/step - loss: 0.6006 - accuracy: 0.6928\n",
      "Epoch 175/200\n",
      "5/5 [==============================] - 0s 3ms/step - loss: 0.6001 - accuracy: 0.6928\n",
      "Epoch 176/200\n",
      "5/5 [==============================] - 0s 971us/step - loss: 0.5996 - accuracy: 0.6928\n",
      "Epoch 177/200\n",
      "5/5 [==============================] - 0s 2ms/step - loss: 0.5994 - accuracy: 0.6928\n",
      "Epoch 178/200\n",
      "5/5 [==============================] - 0s 1ms/step - loss: 0.6004 - accuracy: 0.6928\n",
      "Epoch 179/200\n",
      "5/5 [==============================] - 0s 4ms/step - loss: 0.5994 - accuracy: 0.6928\n",
      "Epoch 180/200\n",
      "5/5 [==============================] - 0s 3ms/step - loss: 0.5999 - accuracy: 0.6928\n",
      "Epoch 181/200\n",
      "5/5 [==============================] - 0s 1ms/step - loss: 0.6001 - accuracy: 0.6928\n",
      "Epoch 182/200\n",
      "5/5 [==============================] - 0s 2ms/step - loss: 0.5997 - accuracy: 0.6928\n",
      "Epoch 183/200\n",
      "5/5 [==============================] - 0s 2ms/step - loss: 0.5992 - accuracy: 0.6928\n",
      "Epoch 184/200\n",
      "5/5 [==============================] - 0s 2ms/step - loss: 0.5990 - accuracy: 0.6928\n",
      "Epoch 185/200\n",
      "5/5 [==============================] - 0s 3ms/step - loss: 0.5988 - accuracy: 0.6928\n",
      "Epoch 186/200\n",
      "5/5 [==============================] - 0s 3ms/step - loss: 0.5987 - accuracy: 0.6928\n",
      "Epoch 187/200\n",
      "5/5 [==============================] - 0s 2ms/step - loss: 0.5993 - accuracy: 0.6928\n",
      "Epoch 188/200\n",
      "5/5 [==============================] - 0s 2ms/step - loss: 0.5992 - accuracy: 0.6928\n",
      "Epoch 189/200\n",
      "5/5 [==============================] - 0s 820us/step - loss: 0.5998 - accuracy: 0.6928\n",
      "Epoch 190/200\n",
      "5/5 [==============================] - 0s 2ms/step - loss: 0.5994 - accuracy: 0.6928\n",
      "Epoch 191/200\n",
      "5/5 [==============================] - 0s 885us/step - loss: 0.5987 - accuracy: 0.6928\n",
      "Epoch 192/200\n",
      "5/5 [==============================] - 0s 3ms/step - loss: 0.5985 - accuracy: 0.6928\n",
      "Epoch 193/200\n",
      "5/5 [==============================] - 0s 3ms/step - loss: 0.5983 - accuracy: 0.6928\n",
      "Epoch 194/200\n",
      "5/5 [==============================] - 0s 765us/step - loss: 0.5982 - accuracy: 0.6928\n",
      "Epoch 195/200\n",
      "5/5 [==============================] - 0s 750us/step - loss: 0.5985 - accuracy: 0.6928\n",
      "Epoch 196/200\n",
      "5/5 [==============================] - 0s 3ms/step - loss: 0.5983 - accuracy: 0.6928\n",
      "Epoch 197/200\n",
      "5/5 [==============================] - 0s 2ms/step - loss: 0.5994 - accuracy: 0.6928\n",
      "Epoch 198/200\n",
      "5/5 [==============================] - 0s 3ms/step - loss: 0.5992 - accuracy: 0.6928\n",
      "Epoch 199/200\n",
      "5/5 [==============================] - 0s 3ms/step - loss: 0.5985 - accuracy: 0.6928\n",
      "Epoch 200/200\n",
      "5/5 [==============================] - 0s 2ms/step - loss: 0.5982 - accuracy: 0.6928\n"
     ]
    }
   ],
   "source": [
    "# compile the keras model\n",
    "model.compile(optimizer='adam', loss='binary_crossentropy',metrics=['accuracy'])\n",
    "history=model.fit(X_train, y_train,epochs=200)"
   ]
  },
  {
   "cell_type": "code",
   "execution_count": 40,
   "id": "fd443bc2",
   "metadata": {},
   "outputs": [
    {
     "name": "stdout",
     "output_type": "stream",
     "text": [
      "5/5 [==============================] - 0s 3ms/step - loss: 0.5979 - accuracy: 0.6928\n",
      "train_Accuracy: 69.28\n",
      "20/20 [==============================] - 0s 1ms/step - loss: 0.8690 - accuracy: 0.6407\n",
      "test_Accuracy: 64.07\n"
     ]
    }
   ],
   "source": [
    "# evaluate the keras model\n",
    "_, accuracy = model.evaluate(X_train, y_train)\n",
    "print('train_Accuracy: %.2f' % (accuracy*100))\n",
    "_, accuracy = model.evaluate(X_test, y_test)\n",
    "print('test_Accuracy: %.2f' % (accuracy*100))"
   ]
  },
  {
   "cell_type": "code",
   "execution_count": 41,
   "id": "2fadb790",
   "metadata": {},
   "outputs": [
    {
     "data": {
      "image/png": "[encoded data removed]",
      "text/plain": [
       "<Figure size 500x500 with 1 Axes>"
      ]
     },
     "metadata": {
      "needs_background": "light"
     },
     "output_type": "display_data"
    }
   ],
   "source": [
    "y_pred_keras=model.predict(X_test)\n",
    "\n",
    "og_fpr, log_tpr, thr = roc_curve(y_test, y_pred_log)\n",
    "auc_log = auc(log_fpr, log_tpr)\n",
    "\n",
    "keras_fpr, keras_tpr, thr = roc_curve(y_test, y_pred_keras)\n",
    "auc_keras = auc(keras_fpr, keras_tpr)\n",
    "\n",
    "plt.figure(figsize=(5, 5), dpi=100)\n",
    "\n",
    "plt.plot(log_fpr, log_tpr, linestyle='-', label='Logistic Regression (auc = %0.3f)' % auc_log)\n",
    "plt.plot(keras_fpr, keras_tpr, marker='.', label='keras (auc = %0.3f)' % auc_keras)\n",
    "\n",
    "plt.xlabel('False Positive Rate -->')\n",
    "plt.ylabel('True Positive Rate -->')\n",
    "\n",
    "plt.legend()\n",
    "\n",
    "plt.show()"
   ]
  },
  {
   "cell_type": "code",
   "execution_count": 42,
   "id": "ab90da7a",
   "metadata": {},
   "outputs": [],
   "source": [
    "import pickle\n",
    "pickle.dump(classifier, open('classifier.pkl', 'wb'))"
   ]
  },
  {
   "cell_type": "code",
   "execution_count": 43,
   "id": "55fa26b3",
   "metadata": {},
   "outputs": [],
   "source": [
    "pickle.dump(std_scale, open('sc.pkl', 'wb'))"
   ]
  },
  {
   "cell_type": "code",
   "execution_count": null,
   "id": "36422f83",
   "metadata": {},
   "outputs": [],
   "source": []
  }
 ],
 "metadata": {
  "kernelspec": {
   "display_name": "Python 3 (ipykernel)",
   "language": "python",
   "name": "python3"
  },
  "language_info": {
   "codemirror_mode": {
    "name": "ipython",
    "version": 3
   },
   "file_extension": ".py",
   "mimetype": "text/x-python",
   "name": "python",
   "nbconvert_exporter": "python",
   "pygments_lexer": "ipython3",
   "version": "3.9.7"
  }
 },
 "nbformat": 4,
 "nbformat_minor": 5
}
